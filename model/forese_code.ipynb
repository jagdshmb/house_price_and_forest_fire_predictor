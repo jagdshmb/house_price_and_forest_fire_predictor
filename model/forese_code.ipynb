{
 "cells": [
  {
   "cell_type": "code",
   "execution_count": 1,
   "metadata": {},
   "outputs": [],
   "source": [
    "import numpy as np\n",
    "import pandas as pd\n",
    "from sklearn.linear_model import LogisticRegression\n",
    "from sklearn.model_selection import train_test_split\n",
    "import pickle"
   ]
  },
  {
   "cell_type": "code",
   "execution_count": 2,
   "metadata": {},
   "outputs": [],
   "source": [
    "data = pd.read_csv(\"Forest_fire.csv\")"
   ]
  },
  {
   "cell_type": "code",
   "execution_count": 3,
   "metadata": {},
   "outputs": [
    {
     "name": "stdout",
     "output_type": "stream",
     "text": [
      "[[ 40  45  20]\n",
      " [ 50  30  10]\n",
      " [ 10  20  70]\n",
      " [ 60  45  70]\n",
      " [ 30  48  10]\n",
      " [ 50  15  30]\n",
      " [  5  35  35]\n",
      " [  5  20  70]\n",
      " [ 60  32  19]\n",
      " [ 30  50  45]\n",
      " [ 40  55  80]\n",
      " [ 30  39 100]\n",
      " [ 10  12  12]\n",
      " [ 20  23  23]\n",
      " [ 60  34  15]\n",
      " [ 80   4  68]\n",
      " [ 25  56  79]\n",
      " [ 12  45  90]\n",
      " [ 28  43  15]\n",
      " [ 26   0  32]\n",
      " [ 32  37  21]\n",
      " [ 45  48  12]\n",
      " [ 56  15  65]\n",
      " [ 67  45  33]\n",
      " [ 78  49   8]\n",
      " [ 89  45  18]\n",
      " [ 21  12  44]\n",
      " [ 11  20  59]\n",
      " [  1  32  70]\n",
      " [  5  20  45]\n",
      " [ 42  43  20]\n",
      " [ 32  60  30]\n",
      " [  5  15   5]\n",
      " [ 20  30   5]\n",
      " [ 30  51   2]\n",
      " [ 60  60  10]\n",
      " [ 10  10  60]\n",
      " [  0  30   0]\n",
      " [ 45  45  15]]\n"
     ]
    }
   ],
   "source": [
    "X = data.drop(['Area','Fire Occurrence'],axis='columns')\n",
    "X = np.array(X)\n",
    "print(X)"
   ]
  },
  {
   "cell_type": "code",
   "execution_count": 4,
   "metadata": {},
   "outputs": [
    {
     "name": "stdout",
     "output_type": "stream",
     "text": [
      "[1 1 0 1 1 0 0 0 1 1 1 0 0 0 1 0 1 0 1 0 1 1 0 1 1 1 0 0 0 0 1 1 0 0 1 1 0\n",
      " 0 1]\n"
     ]
    }
   ],
   "source": [
    "y = data.drop(['Area','Oxygen','Temperature','Humidity'],axis='columns')\n",
    "y = np.array(y)\n",
    "y = y.transpose()[0]\n",
    "print(y)"
   ]
  },
  {
   "cell_type": "code",
   "execution_count": 5,
   "metadata": {},
   "outputs": [],
   "source": [
    "model = LogisticRegression()"
   ]
  },
  {
   "cell_type": "code",
   "execution_count": 6,
   "metadata": {},
   "outputs": [],
   "source": [
    "X_train, X_test, y_train, y_test = train_test_split(X,y, test_size=0.3)"
   ]
  },
  {
   "cell_type": "code",
   "execution_count": 7,
   "metadata": {},
   "outputs": [
    {
     "data": {
      "text/plain": [
       "LogisticRegression()"
      ]
     },
     "execution_count": 7,
     "metadata": {},
     "output_type": "execute_result"
    }
   ],
   "source": [
    "model.fit(X_train, y_train)"
   ]
  },
  {
   "cell_type": "code",
   "execution_count": 8,
   "metadata": {},
   "outputs": [
    {
     "data": {
      "text/plain": [
       "1.0"
      ]
     },
     "execution_count": 8,
     "metadata": {},
     "output_type": "execute_result"
    }
   ],
   "source": [
    "model.score(X_test, y_test)"
   ]
  },
  {
   "cell_type": "code",
   "execution_count": 9,
   "metadata": {},
   "outputs": [
    {
     "name": "stdout",
     "output_type": "stream",
     "text": [
      "[[0.96381694 0.03618306]]\n"
     ]
    }
   ],
   "source": [
    "final=[np.array([45,20,20])]\n",
    "\n",
    "b = model.predict_proba(final)\n",
    "print(b)"
   ]
  },
  {
   "cell_type": "code",
   "execution_count": 10,
   "metadata": {},
   "outputs": [],
   "source": [
    "pickle.dump(model,open('model.pkl','wb'))"
   ]
  },
  {
   "cell_type": "code",
   "execution_count": null,
   "metadata": {},
   "outputs": [],
   "source": []
  }
 ],
 "metadata": {
  "kernelspec": {
   "display_name": "Python 3",
   "language": "python",
   "name": "python3"
  },
  "language_info": {
   "codemirror_mode": {
    "name": "ipython",
    "version": 3
   },
   "file_extension": ".py",
   "mimetype": "text/x-python",
   "name": "python",
   "nbconvert_exporter": "python",
   "pygments_lexer": "ipython3",
   "version": "3.6.5"
  }
 },
 "nbformat": 4,
 "nbformat_minor": 4
}
